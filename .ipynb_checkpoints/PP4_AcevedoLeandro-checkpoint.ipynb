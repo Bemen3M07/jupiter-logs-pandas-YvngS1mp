{
 "cells": [
  {
   "cell_type": "markdown",
   "id": "353e9fe3-6a54-4523-82df-51f0e8748a24",
   "metadata": {},
   "source": [
    "EXERCICI 1\n",
    "\n",
    "1- Amb les teves pròpies paraules, podries explicar que es?\n",
    "\n",
    "a. Jupyter: Jupyter es una aplicación interactiva que permite crear y ejecutar notebooks: documentos donde puedes combinar código, texto explicativo, imágenes y gráficos.\n",
    "b. Anaconda: Anaconda es una plataforma que incluye un conjunto de herramientas y paquetes para la programación en Python y R. Esta plataforma es utilziada para aplicaciones de ciencia de datos, aprendizaje automático e inteligencia artificial\n",
    "c. Paquet logging: El paquete logging de es una herramienta que permite registrar información sobre la ejecución de un programa."
   ]
  },
  {
   "cell_type": "markdown",
   "id": "8d6b2be1-278c-4553-b162-e25c71c0ce09",
   "metadata": {},
   "source": [
    "EXERCICI 2\n",
    "\n",
    "2- Per que creus que es necessari implementar un log en un programa? Raona la\n",
    "resposta i fica exemples del perquè ho creus (mínim 3 exemples).\n",
    "\n",
    "Implementar un log en un programa es necesario para tener un registro claro del comportamiento de la aplicación durante su ejecución. Esto ayuda a identificar problemas, supervisar el programa y entender mejor la funcionalidad del mismo. Ejemplos de utilidad del logging:\n",
    "\n",
    "1. Correción de errores\n",
    "Cuando alguna cosa no funciona correctamente, los logs pueden proporcionar informació detallada sobre qué y dodne puede estar el problema.\n",
    "\n",
    "Ejemplo:\n",
    "\n",
    "En una aplicación web, si se produce un error al cargar una página, el log puede registrar el tipo de error y en que línea del código ha fallado.\n",
    "\n",
    "\n",
    "2. Supervisión en tiempo real\n",
    "Los logs permiten hacer un seguimiento del rendimiento y el comportamiento del sistema mientras el mismo está funcionando.\n",
    "\n",
    "Ejemplo:\n",
    "\n",
    "En un sistema de comercio electrónico, se pueden registrar los tiempos de les transacciones per detectar lentitud en tiempo real.\n",
    "\n",
    "\n",
    "3. Seguimiento de actividades\n",
    "Los logs son útiles per tener un historial de activitats en una aplicación, com por ejemplo acciones de usuaris o cambios en datos. Esto es muy útil para, por ejemplo, la seguridad.\n",
    "\n",
    "Ejemplo:\n",
    "\n",
    "En un sistema bancario, cada vez que un usuario realiza una acción (como por ejemplo una transferéncia), se registra la acción junto con la hora, el usuari y el import."
   ]
  },
  {
   "cell_type": "markdown",
   "id": "e6940b35-4b26-4438-95d7-e5414eecd185",
   "metadata": {},
   "source": [
    "EXERCICI 3\n",
    "\n",
    "Amb les teves paraules, explica que significa cada línia dels següents exemples de\n",
    "logging. CAL EXPLICAR LINEA A LINEA\n",
    "\n",
    "Logging 1:\n",
    "\n",
    "![logging1](./images/Logging1.jpg)\n",
    "\n",
    "Línea 1:\n",
    "Configura el sistema de logging. Especifica que los mensajes mostrarán la hora (%(asctime)s) y el texto del mensaje (%(message)s). Solo se registrarán mensajes de nivel INFO o superior.\n",
    "\n",
    "Líniea 2:\n",
    "Registra un mensaje informativo diciendo \"Admin ha accedido\". Este mensaje aparecerá junto con la hora actual en el formato definido anteriormente.\n",
    "\n",
    "Logging 2:\n",
    "\n",
    "![logging2](./images/Logging2.jpg)\n",
    "\n",
    "Explicación:\n",
    "Crea un manejador de archivo (FileHandler) que envía los mensajes de log a un archivo llamado 'file.log'. Esto significa que, a parte de mostrar los mensajes en consola, también se guardarán en el archivo 'file.log'.\n",
    "\n",
    "Logging 3:\n",
    "\n",
    "![logging3](./images/Logging3.jpg)\n",
    "\n",
    "Línea 1:\n",
    "Importa el módulo logging, que permite gestionar y registrar mensajes en el programa.\n",
    "\n",
    "Línea 2:\n",
    "Configura el formato de los mensajes del log.\n",
    "%(process)d: Incluye el identificador (ID) del proceso que está ejecutanso el código.\n",
    "%(levelname)s: Añade el nivel del mensaje (WARNING, INFO, ERROR, etc.).\n",
    "%(message)s: Muestra el texto del mensaje.\n",
    "\n",
    "Línea 3:\n",
    "Registra un mensaje de nivel WARNING."
   ]
  },
  {
   "cell_type": "code",
   "execution_count": null,
   "id": "22aaea7a-b9b2-4ae0-8e53-691e9329f053",
   "metadata": {},
   "outputs": [],
   "source": []
  }
 ],
 "metadata": {
  "kernelspec": {
   "display_name": "Python 3 (ipykernel)",
   "language": "python",
   "name": "python3"
  },
  "language_info": {
   "codemirror_mode": {
    "name": "ipython",
    "version": 3
   },
   "file_extension": ".py",
   "mimetype": "text/x-python",
   "name": "python",
   "nbconvert_exporter": "python",
   "pygments_lexer": "ipython3",
   "version": "3.12.1"
  }
 },
 "nbformat": 4,
 "nbformat_minor": 5
}
