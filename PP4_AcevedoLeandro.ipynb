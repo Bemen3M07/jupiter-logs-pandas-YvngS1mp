{
 "cells": [
  {
   "cell_type": "markdown",
   "id": "353e9fe3-6a54-4523-82df-51f0e8748a24",
   "metadata": {},
   "source": [
    "Exercici 1\n",
    "\n",
    "1- Amb les teves pròpies paraules, podries explicar que es,?\n",
    "a. Jupyter: Jupyter es una aplicación interactiva que permite crear y ejecutar notebooks: documentos donde puedes combinar código, texto explicativo, imágenes y gráficos.\n",
    "b. Anaconda: Anaconda es una plataforma que incluye un conjunto de herramientas y paquetes para la programación en Python y R. Esta plataforma es utilziada para aplicaciones de ciencia de datos, aprendizaje automático e inteligencia artificial\n",
    "c. Paquet logging: El paquete logging de es una herramienta que permite registrar información sobre la ejecución de un programa."
   ]
  }
 ],
 "metadata": {
  "kernelspec": {
   "display_name": "Python 3 (ipykernel)",
   "language": "python",
   "name": "python3"
  },
  "language_info": {
   "codemirror_mode": {
    "name": "ipython",
    "version": 3
   },
   "file_extension": ".py",
   "mimetype": "text/x-python",
   "name": "python",
   "nbconvert_exporter": "python",
   "pygments_lexer": "ipython3",
   "version": "3.12.1"
  }
 },
 "nbformat": 4,
 "nbformat_minor": 5
}
