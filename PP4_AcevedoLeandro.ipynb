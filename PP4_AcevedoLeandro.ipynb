{
 "cells": [
  {
   "cell_type": "markdown",
   "id": "353e9fe3-6a54-4523-82df-51f0e8748a24",
   "metadata": {},
   "source": [
    "## **EXERCICI 1**\n",
    "\n",
    "### 1- Amb les teves pròpies paraules, podries explicar que es?\n",
    "\n",
    "a. Jupyter: Jupyter es una aplicación interactiva que permite crear y ejecutar notebooks: documentos donde puedes combinar código, texto explicativo, imágenes y gráficos.\n",
    "\n",
    "b. Anaconda: Anaconda es una plataforma que incluye un conjunto de herramientas y paquetes para la programación en Python y R. Esta plataforma es utilziada para aplicaciones de ciencia de datos, aprendizaje automático e inteligencia artificial\n",
    "\n",
    "c. Paquet logging: El paquete logging de es una herramienta que permite registrar información sobre la ejecución de un programa."
   ]
  },
  {
   "cell_type": "markdown",
   "id": "8d6b2be1-278c-4553-b162-e25c71c0ce09",
   "metadata": {},
   "source": [
    "## **EXERCICI 2**\n",
    "\n",
    "### 2- Per que creus que es necessari implementar un log en un programa? Raona la resposta i fica exemples del perquè ho creus (mínim 3 exemples).\n",
    "\n",
    "Implementar un log en un programa es necesario para tener un registro claro del comportamiento de la aplicación durante su ejecución. Esto ayuda a identificar problemas, supervisar el programa y entender mejor la funcionalidad del mismo. Ejemplos de utilidad del logging:\n",
    "\n",
    "**1. Correción de errores**\n",
    "Cuando alguna cosa no funciona correctamente, los logs pueden proporcionar informació detallada sobre qué y dodne puede estar el problema.\n",
    "\n",
    "**Ejemplo:**\n",
    "\n",
    "En una aplicación web, si se produce un error al cargar una página, el log puede registrar el tipo de error y en que línea del código ha fallado.\n",
    "\n",
    "\n",
    "**2. Supervisión en tiempo real**\n",
    "Los logs permiten hacer un seguimiento del rendimiento y el comportamiento del sistema mientras el mismo está funcionando.\n",
    "\n",
    "**Ejemplo:**\n",
    "\n",
    "En un sistema de comercio electrónico, se pueden registrar los tiempos de les transacciones per detectar lentitud en tiempo real.\n",
    "\n",
    "\n",
    "**3. Seguimiento de actividades**\n",
    "Los logs son útiles per tener un historial de activitats en una aplicación, com por ejemplo acciones de usuaris o cambios en datos. Esto es muy útil para, por ejemplo, la seguridad.\n",
    "\n",
    "**Ejemplo:**\n",
    "\n",
    "En un sistema bancario, cada vez que un usuario realiza una acción (como por ejemplo una transferéncia), se registra la acción junto con la hora, el usuari y el import."
   ]
  },
  {
   "cell_type": "markdown",
   "id": "e6940b35-4b26-4438-95d7-e5414eecd185",
   "metadata": {},
   "source": [
    "## **EXERCICI 3**\n",
    "\n",
    "### 3- Amb les teves paraules, explica que significa cada línia dels següents exemples de logging. CAL EXPLICAR LINEA A LINEA\n",
    "\n",
    "**Logging 1:**\n",
    "\n",
    "![logging1](./images/Logging1.jpg)\n",
    "\n",
    "**Línea 1:**\n",
    "Configura el sistema de logging. Especifica que los mensajes mostrarán la hora (%(asctime)s) y el texto del mensaje (%(message)s). Solo se registrarán mensajes de nivel INFO o superior.\n",
    "\n",
    "**Líniea 2:**\n",
    "Registra un mensaje informativo diciendo \"Admin ha accedido\". Este mensaje aparecerá junto con la hora actual en el formato definido anteriormente.\n",
    "\n",
    "**Logging 2:**\n",
    "\n",
    "![logging2](./images/Logging2.jpg)\n",
    "\n",
    "**Explicación:**\n",
    "Crea un manejador de archivo (FileHandler) que envía los mensajes de log a un archivo llamado 'file.log'. Esto significa que, a parte de mostrar los mensajes en consola, también se guardarán en el archivo 'file.log'.\n",
    "\n",
    "**Logging 3:**\n",
    "\n",
    "![logging3](./images/Logging3.jpg)\n",
    "\n",
    "**Línea 1:**\n",
    "Importa el módulo logging, que permite gestionar y registrar mensajes en el programa.\n",
    "\n",
    "**Línea 2:**\n",
    "Configura el formato de los mensajes del log.\n",
    "%(process)d: Incluye el identificador (ID) del proceso que está ejecutanso el código.\n",
    "%(levelname)s: Añade el nivel del mensaje (WARNING, INFO, ERROR, etc.).\n",
    "%(message)s: Muestra el texto del mensaje.\n",
    "\n",
    "**Línea 3:**\n",
    "Registra un mensaje de nivel WARNING."
   ]
  },
  {
   "cell_type": "markdown",
   "id": "8ee30c04-f95e-40b5-8883-91e4cfd3bcc4",
   "metadata": {},
   "source": [
    "## **EXERCICI 4**\n",
    "\n",
    "### A partir del següent codi creat amb JUPYTER explica resumidament el que fa cada BLOC. No cal explicar línia per línia, sinó que pot ser de forma general, però si amb certa coherència.\n",
    "\n",
    "**Taula d’exemple**\n",
    "\n",
    "|   | Profesor |  Alumno  | M01 | M02 | M03 | M04 | M05 |\n",
    "|---| -------- |----------|-----|-----|-----|-----|-----|\n",
    "| 0 | Emili    | Xavier   |  8  |  6  |  7  |  9  |  4  | \n",
    "| 1 | Isabel   |  Juan    |  6  |  4  |  5  |  7  |  5  |\n",
    "| 2 | Jose     | Carlos   |  5  |  8  |  7  |  4  |  7  |\n",
    "| 3 | Emili    | Maradona |  5  |  4  |  3  |  8  |  8  |\n",
    "| 4 | Isabel   | Paquito  |  5  |  9  |  8  |  9  |  4  |"
   ]
  },
  {
   "cell_type": "code",
   "execution_count": null,
   "id": "411936a1-dd52-44cc-8cf1-6d5c1b91b30e",
   "metadata": {},
   "outputs": [],
   "source": [
    "# Código 1\n",
    "\n",
    "notas[[\"M01\", \"M02\", \"M03\", \"M04\", \"MO5\"]].mean()"
   ]
  },
  {
   "cell_type": "markdown",
   "id": "ac42c42d-b912-4d28-8b6d-d3c62eb1aaee",
   "metadata": {},
   "source": [
    "Este código obtiene los datos de las columnas \"M01, M02, M03, M04, MO5\" de la tabla anterior (un dataframe) y calcula el promedio utilizando ela función .mean()."
   ]
  },
  {
   "cell_type": "code",
   "execution_count": null,
   "id": "74e83417-943d-4635-8f92-f00262bd8d1c",
   "metadata": {},
   "outputs": [],
   "source": [
    "# Código 2\n",
    "\n",
    "notas.groupby('Alumno', as_index=False) [\"M01\", \"M02\", \"M03\", \"M04\", \"M05\"].mean()"
   ]
  },
  {
   "cell_type": "markdown",
   "id": "d45e7b5d-dff1-4817-98b5-bfe82c18b6a8",
   "metadata": {},
   "source": [
    "Este código agrupa los datos de la tabla por alumno y calcula sus promedios."
   ]
  },
  {
   "cell_type": "code",
   "execution_count": null,
   "id": "e9b5f0c0-54fb-4e2e-b767-88fa87d0b10d",
   "metadata": {},
   "outputs": [],
   "source": [
    "# Código 3\n",
    "\n",
    "notas.plot(x=\"Alumno\", y=[\"M01\", \"M02\"]) \n",
    "plt.rcparams[\"figure.figsize\"] = (10,5)\n",
    "plt.show()"
   ]
  },
  {
   "cell_type": "markdown",
   "id": "600aa3b8-9f47-4c0b-b837-cc049cd39fdb",
   "metadata": {},
   "source": [
    "Este código genera un gráfico para comparar las calificaciones de las materias M01 y M02 de cada alumno, con un tamaño específico para la figura."
   ]
  },
  {
   "cell_type": "code",
   "execution_count": null,
   "id": "3513b9ca-c2e7-4fe0-8d02-0a1d11b69748",
   "metadata": {},
   "outputs": [],
   "source": [
    "# Código 4\n",
    "\n",
    "notas[[ \"M01\", \"M02\", \"M03\", \"04\", \"M05\"]].mean(axis = 1)"
   ]
  },
  {
   "cell_type": "markdown",
   "id": "8b7c908c-573c-4d78-99ab-ce552c3ff01a",
   "metadata": {},
   "source": [
    "Este código calcula el promedio de las calificaciones por fila, lo que generalmente significa que está calculando el promedio de las materias seleccionadas para cada estudiante."
   ]
  },
  {
   "cell_type": "code",
   "execution_count": null,
   "id": "fb793133-c4aa-4bc1-9bbc-c90f03d9ba86",
   "metadata": {},
   "outputs": [],
   "source": [
    "# Código 5\n",
    "\n",
    "x_values=notas[\"Alumno\"] \n",
    "y_values=notas[\"M02\"]\n",
    "plt.plot(x_values, y_values, color=\"red\")\n",
    "plt.legend ([\"M02\"])\n",
    "plt.show"
   ]
  },
  {
   "cell_type": "markdown",
   "id": "06e15449-8aab-4a33-8df1-5ad28792fa48",
   "metadata": {},
   "source": [
    "Este código genera un gráfico de líneas donde los alumnos están en el eje X, y las calificaciones de la materia M02 están en el eje Y. Además, se añade una leyenda al gráfico."
   ]
  }
 ],
 "metadata": {
  "kernelspec": {
   "display_name": "Python 3 (ipykernel)",
   "language": "python",
   "name": "python3"
  },
  "language_info": {
   "codemirror_mode": {
    "name": "ipython",
    "version": 3
   },
   "file_extension": ".py",
   "mimetype": "text/x-python",
   "name": "python",
   "nbconvert_exporter": "python",
   "pygments_lexer": "ipython3",
   "version": "3.12.1"
  }
 },
 "nbformat": 4,
 "nbformat_minor": 5
}
